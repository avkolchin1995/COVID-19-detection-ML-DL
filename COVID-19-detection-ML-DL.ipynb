{
 "cells": [
  {
   "cell_type": "markdown",
   "id": "76b0186f",
   "metadata": {},
   "source": [
    "# COVID-19-detection-ML-DL\n",
    "Детектирование наличия COVID-19 либо вирусной пневмонии на рентгеновских снимках легких с помощью алгоритмов машинного и глубокого обучения."
   ]
  },
  {
   "cell_type": "markdown",
   "id": "9127a7a5",
   "metadata": {},
   "source": [
    "## Оглавление\n",
    "1) Загрузка необходимых библиотек и инструментов.\n",
    "- os\n",
    "- cv2\n",
    "- scikit-image\n",
    "- numpy\n",
    "2) Создание отдельных функций:\n",
    "- загрузки изображений\n",
    "- выделения LBP-признаков\n",
    "- разметки примеров.\n",
    "3) Загрузка и предобработка датасета"
   ]
  },
  {
   "cell_type": "code",
   "execution_count": null,
   "id": "d8327082",
   "metadata": {},
   "outputs": [],
   "source": [
    "# Загрузка необходимых библиотек и инструментов\n",
    "import os # Библиотека для работы с функциями ОС\n",
    "import cv2 # Библиотека для работы с изображениями\n",
    "from skimage.feature import local_binary_pattern # Инструмент извлечения LBP-признаков\n",
    "import numpy as np # Библиотека для математических операций"
   ]
  },
  {
   "cell_type": "code",
   "execution_count": null,
   "id": "46f88f7f",
   "metadata": {},
   "outputs": [],
   "source": [
    "# Функция загрузки изображений\n",
    "def image_load(directory):\n",
    "    images = []\n",
    "    for filename in os.listdir(directory):\n",
    "        if filename.endswith((\".jpg\", \".jpeg\", \".png\")):\n",
    "            image_path = os.path.join(directory,filename)\n",
    "            image = cv2.imread(image_path, cv2.IMREAD_GRAYSCALE)\n",
    "            if image is not None:\n",
    "                images.append(image)\n",
    "    return images"
   ]
  },
  {
   "cell_type": "code",
   "execution_count": null,
   "id": "5b477a11",
   "metadata": {},
   "outputs": [],
   "source": [
    "# Функция выделения LBP-признаков\n",
    "def lbp_features(image):\n",
    "    # Извлечение LBP-признаков\n",
    "    lbp = local_binary_pattern(\n",
    "        image=image,\n",
    "        P=8,\n",
    "        R=1,\n",
    "        method='uniform'\n",
    "        )\n",
    "    # Вычисляем гистограмму признаков\n",
    "    n_bins = int(lbp.max() + 1)\n",
    "    hist, _ = np.histogram(lbp, bins=n_bins, range=(0, n_bins))\n",
    "    # Нормализуем гистограмму\n",
    "    hist = hist / hist.sum()\n",
    "    return hist"
   ]
  },
  {
   "cell_type": "code",
   "execution_count": null,
   "id": "1e195838",
   "metadata": {},
   "outputs": [],
   "source": [
    "# Функция подсчета количества примеров в директории\n",
    "def count_files(directory):\n",
    "    count = 0\n",
    "    for filename in os.listdir(directory):\n",
    "        if filename.endswith((\".jpg\", \".jpeg\", \".png\")):\n",
    "            count += 1\n",
    "    return count"
   ]
  },
  {
   "cell_type": "markdown",
   "id": "d053404a",
   "metadata": {},
   "source": [
    "Использован следующий [датасет](https://www.kaggle.com/datasets/pranavraikokte/covid19-image-dataset/)."
   ]
  },
  {
   "cell_type": "code",
   "execution_count": null,
   "id": "43ff6e4d",
   "metadata": {},
   "outputs": [],
   "source": [
    "# Директории датасета\n",
    "directories = [\n",
    "    \"Covid19-dataset/train/Normal\",\n",
    "    \"Covid19-dataset/train/Viral_Pneumonia\",\n",
    "    \"Covid19-dataset/train/Covid\",\n",
    "    \"Covid19-dataset/test/Normal\",\n",
    "    \"Covid19-dataset/test/Viral_Pneumonia\",\n",
    "    \"Covid19-dataset/test/Covid\"\n",
    "]"
   ]
  },
  {
   "cell_type": "code",
   "execution_count": null,
   "id": "bee0b648",
   "metadata": {},
   "outputs": [],
   "source": [
    "# Загрузка изображений из директорий\n",
    "images_train_Normal = []\n",
    "images_train_Normal = image_load(directory=directories[0])\n",
    "#\n",
    "images_train_Viral_Pneumonia = []\n",
    "images_train_Viral_Pneumonia = image_load(directory=directories[1])\n",
    "#\n",
    "images_train_Covid = []\n",
    "images_train_Covid = image_load(directory=directories[2])\n",
    "#\n",
    "images_test_Normal = []\n",
    "images_test_Normal = image_load(directory=directories[3])\n",
    "#\n",
    "images_test_Viral_Pneumonia = []\n",
    "images_test_Viral_Pneumonia = image_load(directory=directories[4])\n",
    "#\n",
    "images_test_Covid = []\n",
    "images_test_Covid = image_load(directory=directories[5])"
   ]
  },
  {
   "cell_type": "code",
   "execution_count": 32,
   "id": "615c538c",
   "metadata": {},
   "outputs": [
    {
     "ename": "KeyboardInterrupt",
     "evalue": "",
     "output_type": "error",
     "traceback": [
      "\u001b[31m---------------------------------------------------------------------------\u001b[39m",
      "\u001b[31mKeyboardInterrupt\u001b[39m                         Traceback (most recent call last)",
      "\u001b[36mCell\u001b[39m\u001b[36m \u001b[39m\u001b[32mIn[32]\u001b[39m\u001b[32m, line 4\u001b[39m\n\u001b[32m      2\u001b[39m X_train_Normal = []\n\u001b[32m      3\u001b[39m \u001b[38;5;28;01mfor\u001b[39;00m image \u001b[38;5;129;01min\u001b[39;00m images_train_Normal:\n\u001b[32m----> \u001b[39m\u001b[32m4\u001b[39m     feat = \u001b[43mlbp_features\u001b[49m\u001b[43m(\u001b[49m\u001b[43mimage\u001b[49m\u001b[43m)\u001b[49m\n\u001b[32m      5\u001b[39m     X_train_Normal.append(feat)\n\u001b[32m      6\u001b[39m \u001b[38;5;66;03m#\u001b[39;00m\n",
      "\u001b[36mCell\u001b[39m\u001b[36m \u001b[39m\u001b[32mIn[28]\u001b[39m\u001b[32m, line 4\u001b[39m, in \u001b[36mlbp_features\u001b[39m\u001b[34m(image)\u001b[39m\n\u001b[32m      2\u001b[39m \u001b[38;5;28;01mdef\u001b[39;00m\u001b[38;5;250m \u001b[39m\u001b[34mlbp_features\u001b[39m(image):\n\u001b[32m      3\u001b[39m     \u001b[38;5;66;03m# Извлечение LBP-признаков\u001b[39;00m\n\u001b[32m----> \u001b[39m\u001b[32m4\u001b[39m     lbp = \u001b[43mlocal_binary_pattern\u001b[49m\u001b[43m(\u001b[49m\n\u001b[32m      5\u001b[39m \u001b[43m        \u001b[49m\u001b[43mimage\u001b[49m\u001b[43m=\u001b[49m\u001b[43mimage\u001b[49m\u001b[43m,\u001b[49m\n\u001b[32m      6\u001b[39m \u001b[43m        \u001b[49m\u001b[43mP\u001b[49m\u001b[43m=\u001b[49m\u001b[32;43m8\u001b[39;49m\u001b[43m,\u001b[49m\n\u001b[32m      7\u001b[39m \u001b[43m        \u001b[49m\u001b[43mR\u001b[49m\u001b[43m=\u001b[49m\u001b[32;43m1\u001b[39;49m\u001b[43m,\u001b[49m\n\u001b[32m      8\u001b[39m \u001b[43m        \u001b[49m\u001b[43mmethod\u001b[49m\u001b[43m=\u001b[49m\u001b[33;43m'\u001b[39;49m\u001b[33;43muniform\u001b[39;49m\u001b[33;43m'\u001b[39;49m\n\u001b[32m      9\u001b[39m \u001b[43m        \u001b[49m\u001b[43m)\u001b[49m\n\u001b[32m     10\u001b[39m     \u001b[38;5;66;03m# Вычисляем гистограмму признаков\u001b[39;00m\n\u001b[32m     11\u001b[39m     n_bins = \u001b[38;5;28mint\u001b[39m(lbp.max() + \u001b[32m1\u001b[39m)\n",
      "\u001b[36mFile \u001b[39m\u001b[32m~/Документы/myenv/lib/python3.12/site-packages/skimage/feature/texture.py:392\u001b[39m, in \u001b[36mlocal_binary_pattern\u001b[39m\u001b[34m(image, P, R, method)\u001b[39m\n\u001b[32m    385\u001b[39m     warnings.warn(\n\u001b[32m    386\u001b[39m         \u001b[33m\"\u001b[39m\u001b[33mApplying `local_binary_pattern` to floating-point images may \u001b[39m\u001b[33m\"\u001b[39m\n\u001b[32m    387\u001b[39m         \u001b[33m\"\u001b[39m\u001b[33mgive unexpected results when small numerical differences between \u001b[39m\u001b[33m\"\u001b[39m\n\u001b[32m    388\u001b[39m         \u001b[33m\"\u001b[39m\u001b[33madjacent pixels are present. It is recommended to use this \u001b[39m\u001b[33m\"\u001b[39m\n\u001b[32m    389\u001b[39m         \u001b[33m\"\u001b[39m\u001b[33mfunction with images of integer dtype.\u001b[39m\u001b[33m\"\u001b[39m\n\u001b[32m    390\u001b[39m     )\n\u001b[32m    391\u001b[39m image = np.ascontiguousarray(image, dtype=np.float64)\n\u001b[32m--> \u001b[39m\u001b[32m392\u001b[39m output = \u001b[43m_local_binary_pattern\u001b[49m\u001b[43m(\u001b[49m\u001b[43mimage\u001b[49m\u001b[43m,\u001b[49m\u001b[43m \u001b[49m\u001b[43mP\u001b[49m\u001b[43m,\u001b[49m\u001b[43m \u001b[49m\u001b[43mR\u001b[49m\u001b[43m,\u001b[49m\u001b[43m \u001b[49m\u001b[43mmethods\u001b[49m\u001b[43m[\u001b[49m\u001b[43mmethod\u001b[49m\u001b[43m.\u001b[49m\u001b[43mlower\u001b[49m\u001b[43m(\u001b[49m\u001b[43m)\u001b[49m\u001b[43m]\u001b[49m\u001b[43m)\u001b[49m\n\u001b[32m    393\u001b[39m \u001b[38;5;28;01mreturn\u001b[39;00m output\n",
      "\u001b[31mKeyboardInterrupt\u001b[39m: "
     ]
    }
   ],
   "source": [
    "# Выделение LBP-признаков\n",
    "X_train_Normal = []\n",
    "for image in images_train_Normal:\n",
    "    feat = lbp_features(image)\n",
    "    X_train_Normal.append(feat)\n",
    "#\n",
    "X_train_Viral_Pneumonia = []\n",
    "for image in images_train_Viral_Pneumonia:\n",
    "    feat = lbp_features(image)\n",
    "    X_train_Viral_Pneumonia.append(feat)\n",
    "#\n",
    "X_train_Covid = []\n",
    "for image in images_train_Covid:\n",
    "    feat = lbp_features(image)\n",
    "    X_train_Covid.append(feat)\n",
    "#\n",
    "X_train = []\n",
    "X_train = np.concatenate([X_train_Normal,X_train_Viral_Pneumonia,X_train_Covid])\n",
    "#\n",
    "X_test_Normal = []\n",
    "for image in images_test_Normal:\n",
    "    feat = lbp_features(image)\n",
    "    X_test_Normal.append(feat)\n",
    "#\n",
    "X_test_Viral_Pneumonia = []\n",
    "for image in images_test_Viral_Pneumonia:\n",
    "    feat = lbp_features(image)\n",
    "    X_test_Viral_Pneumonia.append(feat)\n",
    "#\n",
    "X_test_Covid = []\n",
    "for image in images_test_Covid:\n",
    "    feat = lbp_features(image)\n",
    "    X_test_Covid.append(feat)\n",
    "#\n",
    "X_test = []\n",
    "X_test = np.concatenate([X_test_Normal, X_test_Viral_Pneumonia,X_test_Covid])"
   ]
  },
  {
   "cell_type": "code",
   "execution_count": null,
   "id": "49553a47",
   "metadata": {},
   "outputs": [],
   "source": [
    "# Разметка примеров\n",
    "# 'Normal' = 0\n",
    "# 'Viral_Pneumonia' = 1\n",
    "# 'Covid' = 2\n",
    "# Количество файлов в директориях датасета"
   ]
  }
 ],
 "metadata": {
  "kernelspec": {
   "display_name": "myenv",
   "language": "python",
   "name": "python3"
  },
  "language_info": {
   "codemirror_mode": {
    "name": "ipython",
    "version": 3
   },
   "file_extension": ".py",
   "mimetype": "text/x-python",
   "name": "python",
   "nbconvert_exporter": "python",
   "pygments_lexer": "ipython3",
   "version": "3.12.3"
  }
 },
 "nbformat": 4,
 "nbformat_minor": 5
}
