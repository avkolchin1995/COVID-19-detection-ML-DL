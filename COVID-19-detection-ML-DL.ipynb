{
 "cells": [
  {
   "cell_type": "markdown",
   "id": "76b0186f",
   "metadata": {},
   "source": [
    "# COVID-19-detection-ML-DL\n",
    "Детектирование наличия COVID-19 либо вирусной пневмонии на рентгеновских снимках легких с помощью алгоритмов машинного и глубокого обучения."
   ]
  },
  {
   "cell_type": "markdown",
   "id": "9127a7a5",
   "metadata": {},
   "source": [
    "## Оглавление\n",
    "1) Загрузка необходимых библиотек и инструментов.\n",
    "- os\n",
    "- cv2\n",
    "- scikit-image\n",
    "- numpy\n",
    "2) Создание отдельных функций:\n",
    "- загрузки изображений\n",
    "- выделения LBP-признаков\n",
    "- разметки примеров.\n",
    "3) Загрузка и предобработка датасета"
   ]
  },
  {
   "cell_type": "code",
   "execution_count": 24,
   "id": "d8327082",
   "metadata": {},
   "outputs": [],
   "source": [
    "# Загрузка необходимых библиотек и инструментов\n",
    "import os # Библиотека для работы с функциями ОС\n",
    "import cv2 # Библиотека для работы с изображениями\n",
    "from skimage.feature import local_binary_pattern # Инструмент извлечения LBP-признаков\n",
    "import numpy as np # Библиотека для математических операций\n",
    "import matplotlib.pyplot as plt # Библиотека для визуализации данных\n",
    "import seaborn as sns # Библиотека для визуализации данных\n",
    "from sklearn.metrics import confusion_matrix, ConfusionMatrixDisplay, classification_report # Матрица ошибок и отчет по классификации\n",
    "from sklearn.linear_model import LogisticRegression # Метод LogisticRegression\n",
    "from sklearn.neighbors import KNeighborsClassifier # Метод KNN\n",
    "from sklearn.ensemble import RandomForestClassifier, GradientBoostingClassifier # Методы RandomForestTree и GradientBoostingClassifier"
   ]
  },
  {
   "cell_type": "code",
   "execution_count": 25,
   "id": "46f88f7f",
   "metadata": {},
   "outputs": [],
   "source": [
    "# Функция загрузки изображений\n",
    "def image_load(directory):\n",
    "    images = []\n",
    "    for filename in os.listdir(directory):\n",
    "        if filename.endswith((\".jpg\", \".jpeg\", \".png\")):\n",
    "            image_path = os.path.join(directory,filename)\n",
    "            image = cv2.imread(image_path, cv2.IMREAD_GRAYSCALE)\n",
    "            if image is not None:\n",
    "                images.append(image)\n",
    "    return images"
   ]
  },
  {
   "cell_type": "code",
   "execution_count": 26,
   "id": "5b477a11",
   "metadata": {},
   "outputs": [],
   "source": [
    "# Функция выделения LBP-признаков\n",
    "def lbp_features(image):\n",
    "    # Извлечение LBP-признаков\n",
    "    lbp = local_binary_pattern(\n",
    "        image=image,\n",
    "        P=8,\n",
    "        R=1,\n",
    "        method='uniform'\n",
    "        )\n",
    "    # Вычисляем гистограмму признаков\n",
    "    n_bins = int(lbp.max() + 1)\n",
    "    hist, _ = np.histogram(lbp, bins=n_bins, range=(0, n_bins))\n",
    "    # Нормализуем гистограмму\n",
    "    hist = hist / hist.sum()\n",
    "    return hist"
   ]
  },
  {
   "cell_type": "code",
   "execution_count": 27,
   "id": "1e195838",
   "metadata": {},
   "outputs": [],
   "source": [
    "# Функция подсчета количества примеров в директории\n",
    "def count_image_files(directory):\n",
    "    count = 0\n",
    "    for filename in os.listdir(directory):\n",
    "        if filename.endswith((\".jpg\", \".jpeg\", \".png\")):\n",
    "            count += 1\n",
    "    return count"
   ]
  },
  {
   "cell_type": "markdown",
   "id": "d053404a",
   "metadata": {},
   "source": [
    "Использован следующий [датасет](https://www.kaggle.com/datasets/pranavraikokte/covid19-image-dataset/). Для осуществления обучения и проверки моделей необходимо провести предварительную обработку изображений."
   ]
  },
  {
   "cell_type": "code",
   "execution_count": 28,
   "id": "43ff6e4d",
   "metadata": {},
   "outputs": [],
   "source": [
    "# Директории датасета\n",
    "directories = [\n",
    "    \"Covid19-dataset/train/Normal\",\n",
    "    \"Covid19-dataset/train/Viral_Pneumonia\",\n",
    "    \"Covid19-dataset/train/Covid\",\n",
    "    \"Covid19-dataset/test/Normal\",\n",
    "    \"Covid19-dataset/test/Viral_Pneumonia\",\n",
    "    \"Covid19-dataset/test/Covid\"\n",
    "]"
   ]
  },
  {
   "cell_type": "code",
   "execution_count": 29,
   "id": "bee0b648",
   "metadata": {},
   "outputs": [],
   "source": [
    "# Загрузка изображений из директорий\n",
    "images_train_Normal = []\n",
    "images_train_Normal = image_load(directory=directories[0])\n",
    "#\n",
    "images_train_Viral_Pneumonia = []\n",
    "images_train_Viral_Pneumonia = image_load(directory=directories[1])\n",
    "#\n",
    "images_train_Covid = []\n",
    "images_train_Covid = image_load(directory=directories[2])\n",
    "#\n",
    "images_test_Normal = []\n",
    "images_test_Normal = image_load(directory=directories[3])\n",
    "#\n",
    "images_test_Viral_Pneumonia = []\n",
    "images_test_Viral_Pneumonia = image_load(directory=directories[4])\n",
    "#\n",
    "images_test_Covid = []\n",
    "images_test_Covid = image_load(directory=directories[5])"
   ]
  },
  {
   "cell_type": "code",
   "execution_count": 30,
   "id": "615c538c",
   "metadata": {},
   "outputs": [],
   "source": [
    "# Выделение LBP-признаков\n",
    "X_train_Normal = []\n",
    "for image in images_train_Normal:\n",
    "    feat = lbp_features(image)\n",
    "    X_train_Normal.append(feat)\n",
    "#\n",
    "X_train_Viral_Pneumonia = []\n",
    "for image in images_train_Viral_Pneumonia:\n",
    "    feat = lbp_features(image)\n",
    "    X_train_Viral_Pneumonia.append(feat)\n",
    "#\n",
    "X_train_Covid = []\n",
    "for image in images_train_Covid:\n",
    "    feat = lbp_features(image)\n",
    "    X_train_Covid.append(feat)\n",
    "#\n",
    "X_train = []\n",
    "X_train = np.concatenate([X_train_Normal,X_train_Viral_Pneumonia,X_train_Covid])\n",
    "#\n",
    "X_test_Normal = []\n",
    "for image in images_test_Normal:\n",
    "    feat = lbp_features(image)\n",
    "    X_test_Normal.append(feat)\n",
    "#\n",
    "X_test_Viral_Pneumonia = []\n",
    "for image in images_test_Viral_Pneumonia:\n",
    "    feat = lbp_features(image)\n",
    "    X_test_Viral_Pneumonia.append(feat)\n",
    "#\n",
    "X_test_Covid = []\n",
    "for image in images_test_Covid:\n",
    "    feat = lbp_features(image)\n",
    "    X_test_Covid.append(feat)\n",
    "#\n",
    "X_test = []\n",
    "X_test = np.concatenate([X_test_Normal, X_test_Viral_Pneumonia,X_test_Covid])"
   ]
  },
  {
   "cell_type": "code",
   "execution_count": 31,
   "id": "49553a47",
   "metadata": {},
   "outputs": [],
   "source": [
    "# Разметка примеров\n",
    "# 'Normal' = 0\n",
    "# 'Viral_Pneumonia' = 1\n",
    "# 'Covid' = 2\n",
    "# Количество файлов в директориях датасета\n",
    "train_normal_count = count_image_files(directories[0])\n",
    "train_viral_count = count_image_files(directories[1])\n",
    "train_covid_count = count_image_files(directories[2])\n",
    "#\n",
    "test_normal_count = count_image_files(directories[3])\n",
    "test_viral_count = count_image_files(directories[4])\n",
    "test_covid_count = count_image_files(directories[5])\n",
    "#\n",
    "# Создание массивов примеров\n",
    "y_train_normal = np.zeros((train_normal_count,1))\n",
    "y_train_viral = np.ones((train_viral_count,1))\n",
    "y_train_covid = np.full((train_covid_count,1), 2)\n",
    "y_train = np.concatenate([y_train_normal,y_train_viral,y_train_covid])\n",
    "#\n",
    "y_test_normal = np.zeros((test_normal_count,1))\n",
    "y_test_viral = np.ones((test_viral_count,1))\n",
    "y_test_covid = np.full((test_covid_count,1), 2)\n",
    "y_test = np.concatenate([y_test_normal,y_test_viral,y_test_covid])"
   ]
  },
  {
   "cell_type": "markdown",
   "id": "ed4ca7c6",
   "metadata": {},
   "source": [
    "### Обучение и проверка моделей на основе классических алгоритмов машинного обучения (LogisticRegression, KNearestNeighbors, RandomForestTree и GradientBoosting)"
   ]
  },
  {
   "cell_type": "code",
   "execution_count": 32,
   "id": "beb46194",
   "metadata": {},
   "outputs": [
    {
     "name": "stderr",
     "output_type": "stream",
     "text": [
      "/home/full-master/Документы/myenv/lib/python3.12/site-packages/sklearn/utils/validation.py:1408: DataConversionWarning: A column-vector y was passed when a 1d array was expected. Please change the shape of y to (n_samples, ), for example using ravel().\n",
      "  y = column_or_1d(y, warn=True)\n"
     ]
    },
    {
     "data": {
      "text/plain": [
       "<Figure size 600x600 with 0 Axes>"
      ]
     },
     "metadata": {},
     "output_type": "display_data"
    },
    {
     "data": {
      "image/png": "[encoded data removed]",
      "text/plain": [
       "<Figure size 640x480 with 2 Axes>"
      ]
     },
     "metadata": {},
     "output_type": "display_data"
    },
    {
     "name": "stdout",
     "output_type": "stream",
     "text": [
      "              precision    recall  f1-score   support\n",
      "\n",
      "      Normal       0.00      0.00      0.00        20\n",
      "       Viral       0.00      0.00      0.00        20\n",
      "    Covid-19       0.39      1.00      0.57        26\n",
      "\n",
      "    accuracy                           0.39        66\n",
      "   macro avg       0.13      0.33      0.19        66\n",
      "weighted avg       0.16      0.39      0.22        66\n",
      "\n"
     ]
    },
    {
     "name": "stderr",
     "output_type": "stream",
     "text": [
      "/home/full-master/Документы/myenv/lib/python3.12/site-packages/sklearn/metrics/_classification.py:1565: UndefinedMetricWarning: Precision is ill-defined and being set to 0.0 in labels with no predicted samples. Use `zero_division` parameter to control this behavior.\n",
      "  _warn_prf(average, modifier, f\"{metric.capitalize()} is\", len(result))\n",
      "/home/full-master/Документы/myenv/lib/python3.12/site-packages/sklearn/metrics/_classification.py:1565: UndefinedMetricWarning: Precision is ill-defined and being set to 0.0 in labels with no predicted samples. Use `zero_division` parameter to control this behavior.\n",
      "  _warn_prf(average, modifier, f\"{metric.capitalize()} is\", len(result))\n",
      "/home/full-master/Документы/myenv/lib/python3.12/site-packages/sklearn/metrics/_classification.py:1565: UndefinedMetricWarning: Precision is ill-defined and being set to 0.0 in labels with no predicted samples. Use `zero_division` parameter to control this behavior.\n",
      "  _warn_prf(average, modifier, f\"{metric.capitalize()} is\", len(result))\n"
     ]
    }
   ],
   "source": [
    "# Обучение и проверка модели на основе LogisticRegression\n",
    "model_LR = LogisticRegression(solver='saga', penalty='elasticnet', max_iter=10**6, l1_ratio=0.5) # инициализация модели на основе LogisticRegression\n",
    "model_LR.fit(X_train,y_train) # обучение модели\n",
    "y_pred = model_LR.predict(X_test) # тестирование модели\n",
    "cm_model_LR = confusion_matrix(y_test,y_pred, normalize='all') # матрица ошибок\n",
    "#\n",
    "#Визуализация матрицы ошибок\n",
    "plt.figure(figsize=(6,6))\n",
    "graph = ConfusionMatrixDisplay(confusion_matrix=cm_model_LR, display_labels=model_LR.classes_)\n",
    "graph.plot(cmap='Spectral', values_format='.2f')\n",
    "plt.xlabel('Y_pred')\n",
    "plt.ylabel('Y_test')\n",
    "plt.title('Матрица ошибок')\n",
    "plt.show()\n",
    "#\n",
    "# Отчет по классификации\n",
    "print(classification_report(y_test,y_pred, target_names=['Normal','Viral','Covid-19']))"
   ]
  },
  {
   "cell_type": "code",
   "execution_count": null,
   "id": "86d7cb9a",
   "metadata": {},
   "outputs": [],
   "source": [
    "# Обучение и проверка модели на основе KNN\n",
    "model_KNN = KNeighborsClassifier(n_neighbors=10**1) # инициализация модели на основе KNN\n",
    "model_KNN.fit(X_train,y_train) # обучение модели\n",
    "y_pred = model_KNN.predict(X_test) # тестирование модели\n",
    "cm_model_KNN = confusion_matrix(y_test,y_pred, normalize='all') # матрица ошибок\n",
    "#\n",
    "#Визуализация матрицы ошибок\n",
    "plt.figure(figsize=(6,6))\n",
    "graph = ConfusionMatrixDisplay(confusion_matrix=cm_model_KNN, display_labels=model_KNN.classes_)\n",
    "graph.plot(cmap='Spectral', values_format='.2f')\n",
    "plt.xlabel('Y_pred')\n",
    "plt.ylabel('Y_test')\n",
    "plt.title('Матрица ошибок')\n",
    "plt.show()\n",
    "#\n",
    "# Отчет по классификации\n",
    "print(classification_report(y_test,y_pred, target_names=['Normal','Viral','Covid-19']))"
   ]
  }
 ],
 "metadata": {
  "kernelspec": {
   "display_name": "myenv",
   "language": "python",
   "name": "python3"
  },
  "language_info": {
   "codemirror_mode": {
    "name": "ipython",
    "version": 3
   },
   "file_extension": ".py",
   "mimetype": "text/x-python",
   "name": "python",
   "nbconvert_exporter": "python",
   "pygments_lexer": "ipython3",
   "version": "3.12.3"
  }
 },
 "nbformat": 4,
 "nbformat_minor": 5
}
