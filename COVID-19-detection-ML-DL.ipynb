{
 "cells": [
  {
   "cell_type": "markdown",
   "id": "76b0186f",
   "metadata": {},
   "source": [
    "# COVID-19-detection-ML-DL\n",
    "Детектирование наличия COVID-19 либо вирусной пневмонии на рентгеновских снимках легких с помощью алгоритмов машинного и глубокого обучения."
   ]
  },
  {
   "cell_type": "markdown",
   "id": "9127a7a5",
   "metadata": {},
   "source": [
    "## Оглавление\n",
    "1) Загрузка необходимых библиотек и инструментов.\n",
    "- os\n",
    "- cv2\n",
    "- scikit-image\n",
    "- numpy\n",
    "2) Создание отдельных функций:\n",
    "- загрузки изображений\n",
    "- выделения LBP-признаков\n",
    "- разметки примеров.\n",
    "3) Загрузка и предобработка датасета"
   ]
  },
  {
   "cell_type": "code",
   "execution_count": 2,
   "id": "d8327082",
   "metadata": {},
   "outputs": [],
   "source": [
    "# Загрузка необходимых библиотек и инструментов\n",
    "import os # Библиотека для работы с функциями ОС\n",
    "import cv2 # Библиотека для работы с изображениями\n",
    "from skimage.feature import local_binary_pattern # Инструмент извлечения LBP-признаков\n",
    "import numpy as np # Библиотека для математических операций\n",
    "import matplotlib.pyplot as plt # Библиотека для визуализации данных\n",
    "import seaborn as sns # Библиотека для визуализации данных\n",
    "from sklearn.metrics import confusion_matrix, ConfusionMatrixDisplay, classification_report # Матрица ошибок и отчет по классификации\n",
    "from sklearn.neighbors import KNeighborsClassifier # Метод KNN\n",
    "from sklearn.ensemble import RandomForestClassifier, GradientBoostingClassifier # Методы RandomForestTree и GradientBoostingClassifier\n",
    "from concurrent.futures import ThreadPoolExecutor # Параллельная реализация процессов"
   ]
  },
  {
   "cell_type": "code",
   "execution_count": 3,
   "id": "46f88f7f",
   "metadata": {},
   "outputs": [],
   "source": [
    "# Функция загрузки изображений\n",
    "def image_load(directory):\n",
    "    images = []\n",
    "    for filename in os.listdir(directory):\n",
    "        if filename.endswith((\".jpg\", \".jpeg\", \".png\")):\n",
    "            image_path = os.path.join(directory,filename)\n",
    "            image = cv2.imread(image_path, cv2.IMREAD_GRAYSCALE)\n",
    "            if image is not None:\n",
    "                images.append(image)\n",
    "    return images"
   ]
  },
  {
   "cell_type": "code",
   "execution_count": 4,
   "id": "5b477a11",
   "metadata": {},
   "outputs": [],
   "source": [
    "# Функция выделения LBP-признаков\n",
    "def lbp_features(image):\n",
    "    # Извлечение LBP-признаков\n",
    "    lbp = local_binary_pattern(\n",
    "        image=image,\n",
    "        P=2,\n",
    "        R=1,\n",
    "        method='uniform'\n",
    "        )\n",
    "    # Вычисляем гистограмму признаков\n",
    "    n_bins = int(lbp.max() + 1)\n",
    "    hist, _ = np.histogram(lbp, bins=n_bins, range=(0, n_bins))\n",
    "    # Нормализуем гистограмму\n",
    "    hist = hist / hist.sum()\n",
    "    return hist"
   ]
  },
  {
   "cell_type": "code",
   "execution_count": 5,
   "id": "1e195838",
   "metadata": {},
   "outputs": [],
   "source": [
    "# Функция подсчета количества примеров в директории\n",
    "def count_image_files(directory):\n",
    "    count = 0\n",
    "    for filename in os.listdir(directory):\n",
    "        if filename.endswith((\".jpg\", \".jpeg\", \".png\")):\n",
    "            count += 1\n",
    "    return count"
   ]
  },
  {
   "cell_type": "code",
   "execution_count": 6,
   "id": "0c2d8dd8",
   "metadata": {},
   "outputs": [],
   "source": [
    "# Функция для параллельной обработки изображений\n",
    "def process_images_parallel(images, max_workers=None):\n",
    "    with ThreadPoolExecutor(max_workers=max_workers) as executor:\n",
    "        features = list(executor.map(lbp_features, images))\n",
    "    return features"
   ]
  },
  {
   "cell_type": "markdown",
   "id": "d053404a",
   "metadata": {},
   "source": [
    "Использован следующий [датасет](https://www.kaggle.com/datasets/pranavraikokte/covid19-image-dataset/). Для осуществления обучения и проверки моделей необходимо провести предварительную обработку изображений."
   ]
  },
  {
   "cell_type": "code",
   "execution_count": 7,
   "id": "43ff6e4d",
   "metadata": {},
   "outputs": [],
   "source": [
    "# Директории датасета\n",
    "directories = [\n",
    "    \"Covid19-dataset/train/Normal\",\n",
    "    \"Covid19-dataset/train/Viral_Pneumonia\",\n",
    "    \"Covid19-dataset/train/Covid\",\n",
    "    \"Covid19-dataset/test/Normal\",\n",
    "    \"Covid19-dataset/test/Viral_Pneumonia\",\n",
    "    \"Covid19-dataset/test/Covid\"\n",
    "]"
   ]
  },
  {
   "cell_type": "code",
   "execution_count": 8,
   "id": "a9bc7b96",
   "metadata": {},
   "outputs": [],
   "source": [
    "# Список для сохранения результатов\n",
    "image_datasets = [None] * len(directories)"
   ]
  },
  {
   "cell_type": "code",
   "execution_count": 9,
   "id": "d55fa91f",
   "metadata": {},
   "outputs": [],
   "source": [
    "# Параллельная загрузка\n",
    "with ThreadPoolExecutor() as executor:\n",
    "    futures = []\n",
    "    for i, directory in enumerate(directories):\n",
    "        futures.append(executor.submit(image_load, directory))\n",
    "    \n",
    "    for i, future in enumerate(futures):\n",
    "        image_datasets[i] = future.result()"
   ]
  },
  {
   "cell_type": "code",
   "execution_count": 10,
   "id": "bee0b648",
   "metadata": {},
   "outputs": [],
   "source": [
    "# Загрузка изображений из директорий\n",
    "images_train_Normal = []\n",
    "images_train_Normal = image_load(directory=directories[0])\n",
    "#\n",
    "images_train_Viral_Pneumonia = []\n",
    "images_train_Viral_Pneumonia = image_load(directory=directories[1])\n",
    "#\n",
    "images_train_Covid = []\n",
    "images_train_Covid = image_load(directory=directories[2])\n",
    "#\n",
    "images_test_Normal = []\n",
    "images_test_Normal = image_load(directory=directories[3])\n",
    "#\n",
    "images_test_Viral_Pneumonia = []\n",
    "images_test_Viral_Pneumonia = image_load(directory=directories[4])\n",
    "#\n",
    "images_test_Covid = []\n",
    "images_test_Covid = image_load(directory=directories[5])"
   ]
  },
  {
   "cell_type": "code",
   "execution_count": 11,
   "id": "615c538c",
   "metadata": {},
   "outputs": [],
   "source": [
    "# Параллельное выделение признаков для обучающих данных\n",
    "X_train_Normal = []\n",
    "X_train_Normal = process_images_parallel(images_train_Normal)\n",
    "#\n",
    "X_train_Viral_Pneumonia = []\n",
    "X_train_Viral_Pneumonia = process_images_parallel(images_train_Viral_Pneumonia)\n",
    "#\n",
    "X_train_Covid = []\n",
    "X_train_Covid = process_images_parallel(images_train_Covid)\n",
    "#\n",
    "X_train = []\n",
    "X_train = np.concatenate([X_train_Normal, X_train_Viral_Pneumonia, X_train_Covid])\n",
    "#\n",
    "# Параллельное выделение признаков для тестовых данных\n",
    "X_test_Normal = []\n",
    "X_test_Normal = process_images_parallel(images_test_Normal)\n",
    "#\n",
    "X_test_Viral_Pneumonia = []\n",
    "X_test_Viral_Pneumonia = process_images_parallel(images_test_Viral_Pneumonia)\n",
    "#\n",
    "X_test_Covid = []\n",
    "X_test_Covid = process_images_parallel(images_test_Covid)\n",
    "#\n",
    "X_test = []\n",
    "X_test = np.concatenate([X_test_Normal, X_test_Viral_Pneumonia, X_test_Covid])"
   ]
  },
  {
   "cell_type": "code",
   "execution_count": 12,
   "id": "49553a47",
   "metadata": {},
   "outputs": [],
   "source": [
    "# Разметка примеров\n",
    "# 'Normal' = 0\n",
    "# 'Viral_Pneumonia' = 1\n",
    "# 'Covid' = 2\n",
    "#\n",
    "# Количество файлов в директориях датасета\n",
    "train_normal_count = count_image_files(directories[0])\n",
    "train_viral_count = count_image_files(directories[1])\n",
    "train_covid_count = count_image_files(directories[2])\n",
    "#\n",
    "test_normal_count = count_image_files(directories[3])\n",
    "test_viral_count = count_image_files(directories[4])\n",
    "test_covid_count = count_image_files(directories[5])\n",
    "#\n",
    "# Создание массивов меток\n",
    "y_train_normal = np.zeros(train_normal_count) \n",
    "y_train_viral = np.ones(train_viral_count)     \n",
    "y_train_covid = np.full(train_covid_count, 2)\n",
    "y_train = np.concatenate([y_train_normal, y_train_viral, y_train_covid])\n",
    "#\n",
    "y_test_normal = np.zeros(test_normal_count)\n",
    "y_test_viral = np.ones(test_viral_count)\n",
    "y_test_covid = np.full(test_covid_count, 2)\n",
    "y_test = np.concatenate([y_test_normal, y_test_viral, y_test_covid])"
   ]
  },
  {
   "cell_type": "markdown",
   "id": "ed4ca7c6",
   "metadata": {},
   "source": [
    "### Обучение и проверка моделей на основе классических алгоритмов машинного обучения (KNearestNeighbors, RandomForestTree и GradientBoosting)"
   ]
  },
  {
   "cell_type": "code",
   "execution_count": 13,
   "id": "86d7cb9a",
   "metadata": {},
   "outputs": [
    {
     "data": {
      "text/plain": [
       "<Figure size 600x600 with 0 Axes>"
      ]
     },
     "metadata": {},
     "output_type": "display_data"
    },
    {
     "data": {
      "image/png": "[encoded data removed]",
      "text/plain": [
       "<Figure size 640x480 with 2 Axes>"
      ]
     },
     "metadata": {},
     "output_type": "display_data"
    },
    {
     "name": "stdout",
     "output_type": "stream",
     "text": [
      "              precision    recall  f1-score   support\n",
      "\n",
      "      Normal       0.25      0.20      0.22        20\n",
      "       Viral       0.41      0.55      0.47        20\n",
      "    Covid-19       0.61      0.54      0.57        26\n",
      "\n",
      "    accuracy                           0.44        66\n",
      "   macro avg       0.42      0.43      0.42        66\n",
      "weighted avg       0.44      0.44      0.43        66\n",
      "\n"
     ]
    }
   ],
   "source": [
    "# Обучение и проверка модели на основе KNearestNeighbors\n",
    "model_KNN = KNeighborsClassifier(n_neighbors=10**1) # инициализация модели на основе KNearestNeighbors\n",
    "model_KNN.fit(X_train,y_train) # обучение модели\n",
    "y_pred = model_KNN.predict(X_test) # тестирование модели\n",
    "cm_model_KNN = confusion_matrix(y_test,y_pred, normalize='all') # матрица ошибок\n",
    "#\n",
    "#Визуализация матрицы ошибок\n",
    "plt.figure(figsize=(6,6))\n",
    "graph = ConfusionMatrixDisplay(confusion_matrix=cm_model_KNN, display_labels=model_KNN.classes_)\n",
    "graph.plot(cmap='Spectral', values_format='.2f')\n",
    "plt.xlabel('Y_pred')\n",
    "plt.ylabel('Y_test')\n",
    "plt.title('Матрица ошибок')\n",
    "plt.show()\n",
    "#\n",
    "# Отчет по классификации\n",
    "print(classification_report(y_test,y_pred, target_names=['Normal','Viral','Covid-19']))"
   ]
  },
  {
   "cell_type": "code",
   "execution_count": 14,
   "id": "7ddc1923",
   "metadata": {},
   "outputs": [
    {
     "data": {
      "text/plain": [
       "<Figure size 600x600 with 0 Axes>"
      ]
     },
     "metadata": {},
     "output_type": "display_data"
    },
    {
     "data": {
      "image/png": "[encoded data removed]",
      "text/plain": [
       "<Figure size 640x480 with 2 Axes>"
      ]
     },
     "metadata": {},
     "output_type": "display_data"
    },
    {
     "name": "stdout",
     "output_type": "stream",
     "text": [
      "              precision    recall  f1-score   support\n",
      "\n",
      "      Normal       0.42      0.25      0.31        20\n",
      "       Viral       0.40      0.50      0.44        20\n",
      "    Covid-19       0.62      0.69      0.65        26\n",
      "\n",
      "    accuracy                           0.50        66\n",
      "   macro avg       0.48      0.48      0.47        66\n",
      "weighted avg       0.49      0.50      0.49        66\n",
      "\n"
     ]
    }
   ],
   "source": [
    "# Обучение и проверка модели на основе RandomForestTree\n",
    "model_RFT = RandomForestClassifier(random_state=18) # инициализация модели на основе RandomForestTree\n",
    "model_RFT.fit(X_train, y_train) # обучение модели\n",
    "y_pred = model_RFT.predict(X_test) # тестирование модели\n",
    "cm_model_RFT = confusion_matrix(y_test,y_pred, normalize='all') # матрица ошибок\n",
    "#\n",
    "#Визуализация матрицы ошибок\n",
    "plt.figure(figsize=(6,6))\n",
    "graph = ConfusionMatrixDisplay(confusion_matrix=cm_model_RFT, display_labels=model_RFT.classes_)\n",
    "graph.plot(cmap='Spectral', values_format='.2f')\n",
    "plt.xlabel('Y_pred')\n",
    "plt.ylabel('Y_test')\n",
    "plt.title('Матрица ошибок')\n",
    "plt.show()\n",
    "#\n",
    "# Отчет по классификации\n",
    "print(classification_report(y_test,y_pred, target_names=['Normal','Viral','Covid-19']))"
   ]
  },
  {
   "cell_type": "code",
   "execution_count": 15,
   "id": "9f0648b4",
   "metadata": {},
   "outputs": [
    {
     "data": {
      "text/plain": [
       "<Figure size 600x600 with 0 Axes>"
      ]
     },
     "metadata": {},
     "output_type": "display_data"
    },
    {
     "data": {
      "image/png": "[encoded data removed]",
      "text/plain": [
       "<Figure size 640x480 with 2 Axes>"
      ]
     },
     "metadata": {},
     "output_type": "display_data"
    },
    {
     "name": "stdout",
     "output_type": "stream",
     "text": [
      "              precision    recall  f1-score   support\n",
      "\n",
      "      Normal       0.55      0.30      0.39        20\n",
      "       Viral       0.44      0.55      0.49        20\n",
      "    Covid-19       0.53      0.62      0.57        26\n",
      "\n",
      "    accuracy                           0.50        66\n",
      "   macro avg       0.51      0.49      0.48        66\n",
      "weighted avg       0.51      0.50      0.49        66\n",
      "\n"
     ]
    }
   ],
   "source": [
    "# Обучение и проверка модели на основе GradientBoosting\n",
    "model_GB = GradientBoostingClassifier(random_state=18) # Инициализация модели на основе GradientBoosting\n",
    "model_GB.fit(X_train, y_train) # обучение модели\n",
    "y_pred = model_GB.predict(X_test) # тестирование модели\n",
    "cm_model_GB = confusion_matrix(y_test,y_pred, normalize='all') # матрица ошибок\n",
    "#\n",
    "#Визуализация матрицы ошибок\n",
    "plt.figure(figsize=(6,6))\n",
    "graph = ConfusionMatrixDisplay(confusion_matrix=cm_model_GB, display_labels=model_GB.classes_)\n",
    "graph.plot(cmap='Spectral', values_format='.2f')\n",
    "plt.xlabel('Y_pred')\n",
    "plt.ylabel('Y_test')\n",
    "plt.title('Матрица ошибок')\n",
    "plt.show()\n",
    "#\n",
    "# Отчет по классификации\n",
    "print(classification_report(y_test,y_pred, target_names=['Normal','Viral','Covid-19']))"
   ]
  }
 ],
 "metadata": {
  "kernelspec": {
   "display_name": "myenv",
   "language": "python",
   "name": "python3"
  },
  "language_info": {
   "codemirror_mode": {
    "name": "ipython",
    "version": 3
   },
   "file_extension": ".py",
   "mimetype": "text/x-python",
   "name": "python",
   "nbconvert_exporter": "python",
   "pygments_lexer": "ipython3",
   "version": "3.12.3"
  }
 },
 "nbformat": 4,
 "nbformat_minor": 5
}
