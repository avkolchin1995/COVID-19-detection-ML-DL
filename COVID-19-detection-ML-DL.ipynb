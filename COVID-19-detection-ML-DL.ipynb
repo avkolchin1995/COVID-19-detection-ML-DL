{
 "cells": [
  {
   "cell_type": "markdown",
   "id": "76b0186f",
   "metadata": {},
   "source": [
    "# COVID-19-detection-ML-DL\n",
    "Детектирование наличия COVID-19 либо вирусной пневмонии на рентгеновских снимках легких с помощью алгоритмов машинного и глубокого обучения."
   ]
  },
  {
   "cell_type": "markdown",
   "id": "9127a7a5",
   "metadata": {},
   "source": [
    "## Оглавление\n",
    "1) Загрузка необходимых библиотек и инструментов.\n",
    "2) Создание отдельных функций:\n",
    "- загрузки изображений\n",
    "- выделения LBP-признаков\n",
    "3) Загрузка и предобработка датасета"
   ]
  },
  {
   "cell_type": "code",
   "execution_count": null,
   "id": "d8327082",
   "metadata": {},
   "outputs": [],
   "source": [
    "# Загрузка необходимых библиотек и инструментов\n",
    "import os # Библиотека для работы с функциями ОС\n",
    "import cv2 # Библиотека для работы с изображениями\n",
    "from skimage.feature import local_binary_pattern # Инструмент извлечения LBP-признаков\n",
    "import numpy as np # Библиотека для математических операций"
   ]
  },
  {
   "cell_type": "code",
   "execution_count": 121,
   "id": "46f88f7f",
   "metadata": {},
   "outputs": [],
   "source": [
    "# Функция загрузки изображений\n",
    "def image_load(directory):\n",
    "    images = []\n",
    "    for filename in os.listdir(directory):\n",
    "        if filename.endswith((\".jpg\", \".jpeg\", \".png\")):\n",
    "            image_path = os.path.join(directory,filename)\n",
    "            image = cv2.imread(image_path, cv2.IMREAD_GRAYSCALE)\n",
    "            if image is not None:\n",
    "                images.append(image)\n",
    "    return images"
   ]
  },
  {
   "cell_type": "code",
   "execution_count": null,
   "id": "5b477a11",
   "metadata": {},
   "outputs": [],
   "source": [
    "# Функция выделения LBP-признаков\n",
    "def lbp_features(image):\n",
    "    features = local_binary_pattern(\n",
    "        image=image,\n",
    "        P=8,\n",
    "        R=8,\n",
    "        method='default'\n",
    "        )\n",
    "    return features"
   ]
  },
  {
   "cell_type": "code",
   "execution_count": 123,
   "id": "a8334a3c",
   "metadata": {},
   "outputs": [],
   "source": [
    "# Функция разметки примеров"
   ]
  },
  {
   "cell_type": "markdown",
   "id": "d053404a",
   "metadata": {},
   "source": [
    "Использован следующий [датасет](https://www.kaggle.com/datasets/pranavraikokte/covid19-image-dataset/)."
   ]
  },
  {
   "cell_type": "code",
   "execution_count": 124,
   "id": "43ff6e4d",
   "metadata": {},
   "outputs": [],
   "source": [
    "# Директории датасета\n",
    "directories = [\n",
    "    \"Covid19-dataset/train/Normal\",\n",
    "    \"Covid19-dataset/train/Viral_Pneumonia\",\n",
    "    \"Covid19-dataset/train/Covid\",\n",
    "    \"Covid19-dataset/test/Normal\",\n",
    "    \"Covid19-dataset/test/Viral_Pneumonia\",\n",
    "    \"Covid19-dataset/test/Covid\"\n",
    "]"
   ]
  },
  {
   "cell_type": "code",
   "execution_count": 125,
   "id": "bee0b648",
   "metadata": {},
   "outputs": [],
   "source": [
    "# Загрузка изображений из директорий\n",
    "images_train_Normal = []\n",
    "images_train_Normal = image_load(directory=directories[0])\n",
    "#\n",
    "images_train_Viral_Pneumonia = []\n",
    "images_train_Viral_Pneumonia = image_load(directory=directories[1])\n",
    "#\n",
    "images_train_Covid = []\n",
    "images_train_Covid = image_load(directory=directories[2])\n",
    "#\n",
    "images_test_Normal = []\n",
    "images_test_Normal = image_load(directory=directories[3])\n",
    "#\n",
    "images_test_Viral_Pneumonia = []\n",
    "images_test_Viral_Pneumonia = image_load(directory=directories[4])\n",
    "#\n",
    "images_test_Covid = []\n",
    "images_test_Covid = image_load(directory=directories[5])"
   ]
  },
  {
   "cell_type": "code",
   "execution_count": null,
   "id": "615c538c",
   "metadata": {},
   "outputs": [
    {
     "ename": "KeyboardInterrupt",
     "evalue": "",
     "output_type": "error",
     "traceback": [
      "\u001b[31m---------------------------------------------------------------------------\u001b[39m",
      "\u001b[31mKeyboardInterrupt\u001b[39m                         Traceback (most recent call last)",
      "\u001b[36mCell\u001b[39m\u001b[36m \u001b[39m\u001b[32mIn[126]\u001b[39m\u001b[32m, line 4\u001b[39m\n\u001b[32m      2\u001b[39m X_train_Normal = []\n\u001b[32m      3\u001b[39m \u001b[38;5;28;01mfor\u001b[39;00m image \u001b[38;5;129;01min\u001b[39;00m images_train_Normal:\n\u001b[32m----> \u001b[39m\u001b[32m4\u001b[39m     feat = \u001b[43mhog_features\u001b[49m\u001b[43m(\u001b[49m\u001b[43mimage\u001b[49m\u001b[43m)\u001b[49m\n\u001b[32m      5\u001b[39m     X_train_Normal.append(feat)\n\u001b[32m      6\u001b[39m \u001b[38;5;66;03m#\u001b[39;00m\n",
      "\u001b[36mCell\u001b[39m\u001b[36m \u001b[39m\u001b[32mIn[122]\u001b[39m\u001b[32m, line 3\u001b[39m, in \u001b[36mhog_features\u001b[39m\u001b[34m(image)\u001b[39m\n\u001b[32m      2\u001b[39m \u001b[38;5;28;01mdef\u001b[39;00m\u001b[38;5;250m \u001b[39m\u001b[34mhog_features\u001b[39m(image):\n\u001b[32m----> \u001b[39m\u001b[32m3\u001b[39m     features, hog_images = \u001b[43mhog\u001b[49m\u001b[43m(\u001b[49m\n\u001b[32m      4\u001b[39m \u001b[43m        \u001b[49m\u001b[43mimage\u001b[49m\u001b[43m,\u001b[49m\n\u001b[32m      5\u001b[39m \u001b[43m        \u001b[49m\u001b[43morientations\u001b[49m\u001b[43m=\u001b[49m\u001b[32;43m8\u001b[39;49m\u001b[43m,\u001b[49m\n\u001b[32m      6\u001b[39m \u001b[43m        \u001b[49m\u001b[43mpixels_per_cell\u001b[49m\u001b[43m=\u001b[49m\u001b[43m(\u001b[49m\u001b[32;43m1\u001b[39;49m\u001b[43m,\u001b[49m\u001b[32;43m1\u001b[39;49m\u001b[43m)\u001b[49m\u001b[43m,\u001b[49m\n\u001b[32m      7\u001b[39m \u001b[43m        \u001b[49m\u001b[43mcells_per_block\u001b[49m\u001b[43m=\u001b[49m\u001b[43m(\u001b[49m\u001b[32;43m1\u001b[39;49m\u001b[43m,\u001b[49m\u001b[32;43m1\u001b[39;49m\u001b[43m)\u001b[49m\u001b[43m,\u001b[49m\n\u001b[32m      8\u001b[39m \u001b[43m        \u001b[49m\u001b[43mvisualize\u001b[49m\u001b[43m=\u001b[49m\u001b[38;5;28;43;01mTrue\u001b[39;49;00m\n\u001b[32m      9\u001b[39m \u001b[43m        \u001b[49m\u001b[43m)\u001b[49m\n\u001b[32m     10\u001b[39m     \u001b[38;5;28;01mreturn\u001b[39;00m features\n",
      "\u001b[36mFile \u001b[39m\u001b[32m~/Документы/myenv/lib/python3.12/site-packages/skimage/_shared/utils.py:445\u001b[39m, in \u001b[36mchannel_as_last_axis.__call__.<locals>.fixed_func\u001b[39m\u001b[34m(*args, **kwargs)\u001b[39m\n\u001b[32m    442\u001b[39m channel_axis = kwargs.get(\u001b[33m'\u001b[39m\u001b[33mchannel_axis\u001b[39m\u001b[33m'\u001b[39m, \u001b[38;5;28;01mNone\u001b[39;00m)\n\u001b[32m    444\u001b[39m \u001b[38;5;28;01mif\u001b[39;00m channel_axis \u001b[38;5;129;01mis\u001b[39;00m \u001b[38;5;28;01mNone\u001b[39;00m:\n\u001b[32m--> \u001b[39m\u001b[32m445\u001b[39m     \u001b[38;5;28;01mreturn\u001b[39;00m \u001b[43mfunc\u001b[49m\u001b[43m(\u001b[49m\u001b[43m*\u001b[49m\u001b[43margs\u001b[49m\u001b[43m,\u001b[49m\u001b[43m \u001b[49m\u001b[43m*\u001b[49m\u001b[43m*\u001b[49m\u001b[43mkwargs\u001b[49m\u001b[43m)\u001b[49m\n\u001b[32m    447\u001b[39m \u001b[38;5;66;03m# TODO: convert scalars to a tuple in anticipation of eventually\u001b[39;00m\n\u001b[32m    448\u001b[39m \u001b[38;5;66;03m#       supporting a tuple of channel axes. Right now, only an\u001b[39;00m\n\u001b[32m    449\u001b[39m \u001b[38;5;66;03m#       integer or a single-element tuple is supported, though.\u001b[39;00m\n\u001b[32m    450\u001b[39m \u001b[38;5;28;01mif\u001b[39;00m np.isscalar(channel_axis):\n",
      "\u001b[36mFile \u001b[39m\u001b[32m~/Документы/myenv/lib/python3.12/site-packages/skimage/feature/_hog.py:286\u001b[39m, in \u001b[36mhog\u001b[39m\u001b[34m(image, orientations, pixels_per_cell, cells_per_block, block_norm, visualize, transform_sqrt, feature_vector, channel_axis)\u001b[39m\n\u001b[32m    284\u001b[39m             \u001b[38;5;28;01mfor\u001b[39;00m o, dr, dc \u001b[38;5;129;01min\u001b[39;00m \u001b[38;5;28mzip\u001b[39m(orientations_arr, dr_arr, dc_arr):\n\u001b[32m    285\u001b[39m                 centre = \u001b[38;5;28mtuple\u001b[39m([r * c_row + c_row // \u001b[32m2\u001b[39m, c * c_col + c_col // \u001b[32m2\u001b[39m])\n\u001b[32m--> \u001b[39m\u001b[32m286\u001b[39m                 rr, cc = \u001b[43mdraw\u001b[49m\u001b[43m.\u001b[49m\u001b[43mline\u001b[49m\u001b[43m(\u001b[49m\n\u001b[32m    287\u001b[39m \u001b[43m                    \u001b[49m\u001b[38;5;28;43mint\u001b[39;49m\u001b[43m(\u001b[49m\u001b[43mcentre\u001b[49m\u001b[43m[\u001b[49m\u001b[32;43m0\u001b[39;49m\u001b[43m]\u001b[49m\u001b[43m \u001b[49m\u001b[43m-\u001b[49m\u001b[43m \u001b[49m\u001b[43mdc\u001b[49m\u001b[43m)\u001b[49m\u001b[43m,\u001b[49m\n\u001b[32m    288\u001b[39m \u001b[43m                    \u001b[49m\u001b[38;5;28;43mint\u001b[39;49m\u001b[43m(\u001b[49m\u001b[43mcentre\u001b[49m\u001b[43m[\u001b[49m\u001b[32;43m1\u001b[39;49m\u001b[43m]\u001b[49m\u001b[43m \u001b[49m\u001b[43m+\u001b[49m\u001b[43m \u001b[49m\u001b[43mdr\u001b[49m\u001b[43m)\u001b[49m\u001b[43m,\u001b[49m\n\u001b[32m    289\u001b[39m \u001b[43m                    \u001b[49m\u001b[38;5;28;43mint\u001b[39;49m\u001b[43m(\u001b[49m\u001b[43mcentre\u001b[49m\u001b[43m[\u001b[49m\u001b[32;43m0\u001b[39;49m\u001b[43m]\u001b[49m\u001b[43m \u001b[49m\u001b[43m+\u001b[49m\u001b[43m \u001b[49m\u001b[43mdc\u001b[49m\u001b[43m)\u001b[49m\u001b[43m,\u001b[49m\n\u001b[32m    290\u001b[39m \u001b[43m                    \u001b[49m\u001b[38;5;28;43mint\u001b[39;49m\u001b[43m(\u001b[49m\u001b[43mcentre\u001b[49m\u001b[43m[\u001b[49m\u001b[32;43m1\u001b[39;49m\u001b[43m]\u001b[49m\u001b[43m \u001b[49m\u001b[43m-\u001b[49m\u001b[43m \u001b[49m\u001b[43mdr\u001b[49m\u001b[43m)\u001b[49m\u001b[43m,\u001b[49m\n\u001b[32m    291\u001b[39m \u001b[43m                \u001b[49m\u001b[43m)\u001b[49m\n\u001b[32m    292\u001b[39m                 hog_image[rr, cc] += orientation_histogram[r, c, o]\n\u001b[32m    294\u001b[39m \u001b[38;5;250m\u001b[39m\u001b[33;03m\"\"\"\u001b[39;00m\n\u001b[32m    295\u001b[39m \u001b[33;03mThe fourth stage computes normalization, which takes local groups of\u001b[39;00m\n\u001b[32m    296\u001b[39m \u001b[33;03mcells and contrast normalizes their overall responses before passing\u001b[39;00m\n\u001b[32m   (...)\u001b[39m\u001b[32m    306\u001b[39m \u001b[33;03mGradient (HOG) descriptors.\u001b[39;00m\n\u001b[32m    307\u001b[39m \u001b[33;03m\"\"\"\u001b[39;00m\n",
      "\u001b[36mFile \u001b[39m\u001b[32m~/Документы/myenv/lib/python3.12/site-packages/skimage/draw/draw.py:402\u001b[39m, in \u001b[36mline\u001b[39m\u001b[34m(r0, c0, r1, c1)\u001b[39m\n\u001b[32m    363\u001b[39m \u001b[38;5;28;01mdef\u001b[39;00m\u001b[38;5;250m \u001b[39m\u001b[34mline\u001b[39m(r0, c0, r1, c1):\n\u001b[32m    364\u001b[39m \u001b[38;5;250m    \u001b[39m\u001b[33;03m\"\"\"Generate line pixel coordinates.\u001b[39;00m\n\u001b[32m    365\u001b[39m \n\u001b[32m    366\u001b[39m \u001b[33;03m    Parameters\u001b[39;00m\n\u001b[32m   (...)\u001b[39m\u001b[32m    400\u001b[39m \u001b[33;03m           [0, 0, 0, 0, 0, 0, 0, 0, 0, 0]], dtype=uint8)\u001b[39;00m\n\u001b[32m    401\u001b[39m \u001b[33;03m    \"\"\"\u001b[39;00m\n\u001b[32m--> \u001b[39m\u001b[32m402\u001b[39m     \u001b[38;5;28;01mreturn\u001b[39;00m \u001b[43m_line\u001b[49m\u001b[43m(\u001b[49m\u001b[43mr0\u001b[49m\u001b[43m,\u001b[49m\u001b[43m \u001b[49m\u001b[43mc0\u001b[49m\u001b[43m,\u001b[49m\u001b[43m \u001b[49m\u001b[43mr1\u001b[49m\u001b[43m,\u001b[49m\u001b[43m \u001b[49m\u001b[43mc1\u001b[49m\u001b[43m)\u001b[49m\n",
      "\u001b[31mKeyboardInterrupt\u001b[39m: "
     ]
    }
   ],
   "source": [
    "# Выделение HOG-признаков\n",
    "X_train_Normal = []\n",
    "for image in images_train_Normal:\n",
    "    feat = lbp_features(image)\n",
    "    X_train_Normal.append(feat)\n",
    "#\n",
    "X_train_Viral_Pneumonia = []\n",
    "for image in images_train_Viral_Pneumonia:\n",
    "    feat = lbp_features(image)\n",
    "    X_train_Viral_Pneumonia.append(feat)\n",
    "#\n",
    "X_train_Covid = []\n",
    "for image in images_train_Covid:\n",
    "    feat = lbp_features(image)\n",
    "    X_train_Covid.append(feat)\n",
    "#\n",
    "X_train = []\n",
    "#\n",
    "X_test_Normal = []\n",
    "for image in images_test_Normal:\n",
    "    feat = lbp_features(image)\n",
    "    X_train_Normal.append(feat)\n",
    "#\n",
    "X_test_Viral_Pneumonia = []\n",
    "for image in images_test_Viral_Pneumonia:\n",
    "    feat = lbp_features(image)\n",
    "    X_test_Viral_Pneumonia.append(feat)\n",
    "#\n",
    "X_test_Covid = []\n",
    "for image in images_test_Covid:\n",
    "    feat = lbp_features(image)\n",
    "    X_test_Covid.append(feat)\n",
    "#\n",
    "X_test = []"
   ]
  }
 ],
 "metadata": {
  "kernelspec": {
   "display_name": "myenv",
   "language": "python",
   "name": "python3"
  },
  "language_info": {
   "codemirror_mode": {
    "name": "ipython",
    "version": 3
   },
   "file_extension": ".py",
   "mimetype": "text/x-python",
   "name": "python",
   "nbconvert_exporter": "python",
   "pygments_lexer": "ipython3",
   "version": "3.12.3"
  }
 },
 "nbformat": 4,
 "nbformat_minor": 5
}
