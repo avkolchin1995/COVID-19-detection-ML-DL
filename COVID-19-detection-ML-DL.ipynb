{
 "cells": [
  {
   "cell_type": "markdown",
   "id": "76b0186f",
   "metadata": {},
   "source": [
    "# COVID-19-detection-ML-DL\n",
    "Детектирование наличия COVID-19 либо вирусной пневмонии на рентгеновских снимках легких с помощью алгоритмов машинного и глубокого обучения."
   ]
  },
  {
   "cell_type": "markdown",
   "id": "9127a7a5",
   "metadata": {},
   "source": [
    "## Оглавление\n",
    "1) Загрузка необходимых библиотек и инструментов.\n",
    "2) Создание отдельных функций:\n",
    "- загрузки изображений\n",
    "- выделения LBP-признаков\n",
    "3) Загрузка и предобработка датасета"
   ]
  },
  {
   "cell_type": "code",
   "execution_count": 8,
   "id": "d8327082",
   "metadata": {},
   "outputs": [],
   "source": [
    "# Загрузка необходимых библиотек и инструментов\n",
    "import os # Библиотека для работы с функциями ОС\n",
    "import cv2 # Библиотека для работы с изображениями\n",
    "from skimage.feature import local_binary_pattern # Инструмент извлечения LBP-признаков\n",
    "import numpy as np # Библиотека для математических операций"
   ]
  },
  {
   "cell_type": "code",
   "execution_count": 9,
   "id": "46f88f7f",
   "metadata": {},
   "outputs": [],
   "source": [
    "# Функция загрузки изображений\n",
    "def image_load(directory):\n",
    "    images = []\n",
    "    for filename in os.listdir(directory):\n",
    "        if filename.endswith((\".jpg\", \".jpeg\", \".png\")):\n",
    "            image_path = os.path.join(directory,filename)\n",
    "            image = cv2.imread(image_path, cv2.IMREAD_GRAYSCALE)\n",
    "            if image is not None:\n",
    "                images.append(image)\n",
    "    return images"
   ]
  },
  {
   "cell_type": "code",
   "execution_count": null,
   "id": "5b477a11",
   "metadata": {},
   "outputs": [],
   "source": [
    "# Функция выделения LBP-признаков\n",
    "def lbp_features(image):\n",
    "    # Извлечение LBP-признаков\n",
    "    lbp = local_binary_pattern(\n",
    "        image=image,\n",
    "        P=8,\n",
    "        R=1,\n",
    "        method='uniform'\n",
    "        )\n",
    "    # Вычисляем гистограмму признаков\n",
    "    n_bins = int(lbp.max() + 1)\n",
    "    hist, _ = np.histogram(lbp, bins=n_bins, range=(0, n_bins))\n",
    "    # Нормализуем гистограмму\n",
    "    hist = hist / hist.sum()\n",
    "    return hist"
   ]
  },
  {
   "cell_type": "markdown",
   "id": "d053404a",
   "metadata": {},
   "source": [
    "Использован следующий [датасет](https://www.kaggle.com/datasets/pranavraikokte/covid19-image-dataset/)."
   ]
  },
  {
   "cell_type": "code",
   "execution_count": 11,
   "id": "43ff6e4d",
   "metadata": {},
   "outputs": [],
   "source": [
    "# Директории датасета\n",
    "directories = [\n",
    "    \"Covid19-dataset/train/Normal\",\n",
    "    \"Covid19-dataset/train/Viral_Pneumonia\",\n",
    "    \"Covid19-dataset/train/Covid\",\n",
    "    \"Covid19-dataset/test/Normal\",\n",
    "    \"Covid19-dataset/test/Viral_Pneumonia\",\n",
    "    \"Covid19-dataset/test/Covid\"\n",
    "]"
   ]
  },
  {
   "cell_type": "code",
   "execution_count": 12,
   "id": "bee0b648",
   "metadata": {},
   "outputs": [],
   "source": [
    "# Загрузка изображений из директорий\n",
    "images_train_Normal = []\n",
    "images_train_Normal = image_load(directory=directories[0])\n",
    "#\n",
    "images_train_Viral_Pneumonia = []\n",
    "images_train_Viral_Pneumonia = image_load(directory=directories[1])\n",
    "#\n",
    "images_train_Covid = []\n",
    "images_train_Covid = image_load(directory=directories[2])\n",
    "#\n",
    "images_test_Normal = []\n",
    "images_test_Normal = image_load(directory=directories[3])\n",
    "#\n",
    "images_test_Viral_Pneumonia = []\n",
    "images_test_Viral_Pneumonia = image_load(directory=directories[4])\n",
    "#\n",
    "images_test_Covid = []\n",
    "images_test_Covid = image_load(directory=directories[5])"
   ]
  },
  {
   "cell_type": "code",
   "execution_count": 13,
   "id": "615c538c",
   "metadata": {},
   "outputs": [
    {
     "ename": "ValueError",
     "evalue": "setting an array element with a sequence. The requested array has an inhomogeneous shape after 1 dimensions. The detected shape was (70,) + inhomogeneous part.",
     "output_type": "error",
     "traceback": [
      "\u001b[31m---------------------------------------------------------------------------\u001b[39m",
      "\u001b[31mValueError\u001b[39m                                Traceback (most recent call last)",
      "\u001b[36mCell\u001b[39m\u001b[36m \u001b[39m\u001b[32mIn[13]\u001b[39m\u001b[32m, line 18\u001b[39m\n\u001b[32m     16\u001b[39m \u001b[38;5;66;03m#\u001b[39;00m\n\u001b[32m     17\u001b[39m X_train = []\n\u001b[32m---> \u001b[39m\u001b[32m18\u001b[39m X_train = \u001b[43mnp\u001b[49m\u001b[43m.\u001b[49m\u001b[43mconcatenate\u001b[49m\u001b[43m(\u001b[49m\u001b[43m[\u001b[49m\u001b[43mX_train_Normal\u001b[49m\u001b[43m,\u001b[49m\u001b[43mX_train_Viral_Pneumonia\u001b[49m\u001b[43m,\u001b[49m\u001b[43mX_train_Covid\u001b[49m\u001b[43m]\u001b[49m\u001b[43m)\u001b[49m\n\u001b[32m     19\u001b[39m \u001b[38;5;66;03m#\u001b[39;00m\n\u001b[32m     20\u001b[39m X_test_Normal = []\n",
      "\u001b[31mValueError\u001b[39m: setting an array element with a sequence. The requested array has an inhomogeneous shape after 1 dimensions. The detected shape was (70,) + inhomogeneous part."
     ]
    }
   ],
   "source": [
    "# Выделение LBP-признаков\n",
    "X_train_Normal = []\n",
    "for image in images_train_Normal:\n",
    "    feat = lbp_features(image)\n",
    "    X_train_Normal.append(feat)\n",
    "#\n",
    "X_train_Viral_Pneumonia = []\n",
    "for image in images_train_Viral_Pneumonia:\n",
    "    feat = lbp_features(image)\n",
    "    X_train_Viral_Pneumonia.append(feat)\n",
    "#\n",
    "X_train_Covid = []\n",
    "for image in images_train_Covid:\n",
    "    feat = lbp_features(image)\n",
    "    X_train_Covid.append(feat)\n",
    "#\n",
    "X_train = []\n",
    "X_train = np.concatenate([X_train_Normal,X_train_Viral_Pneumonia,X_train_Covid])\n",
    "#\n",
    "X_test_Normal = []\n",
    "for image in images_test_Normal:\n",
    "    feat = lbp_features(image)\n",
    "    X_test_Normal.append(feat)\n",
    "#\n",
    "X_test_Viral_Pneumonia = []\n",
    "for image in images_test_Viral_Pneumonia:\n",
    "    feat = lbp_features(image)\n",
    "    X_test_Viral_Pneumonia.append(feat)\n",
    "#\n",
    "X_test_Covid = []\n",
    "for image in images_test_Covid:\n",
    "    feat = lbp_features(image)\n",
    "    X_test_Covid.append(feat)\n",
    "#\n",
    "X_test = []\n",
    "X_test = np.concatenate([X_test_Normal, X_test_Viral_Pneumonia,X_test_Covid])"
   ]
  }
 ],
 "metadata": {
  "kernelspec": {
   "display_name": "myenv",
   "language": "python",
   "name": "python3"
  },
  "language_info": {
   "codemirror_mode": {
    "name": "ipython",
    "version": 3
   },
   "file_extension": ".py",
   "mimetype": "text/x-python",
   "name": "python",
   "nbconvert_exporter": "python",
   "pygments_lexer": "ipython3",
   "version": "3.12.3"
  }
 },
 "nbformat": 4,
 "nbformat_minor": 5
}
